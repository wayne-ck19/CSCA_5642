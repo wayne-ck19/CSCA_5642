{
 "cells": [
  {
   "cell_type": "markdown",
   "id": "6800ae71-3699-4c4a-b3d6-3f8dd4dc9458",
   "metadata": {},
   "source": [
    "### <center> Wk4  NLP Text Classification using RNN Models\n",
    "\n",
    "GitHub Https:  https://github.com/wayne-ck19/CSCA_5642.git : File name: <font color='blue'> wk4_RNN_TextClassification"
   ]
  },
  {
   "cell_type": "code",
   "execution_count": 55,
   "id": "d19f504e-ebf6-4137-ac19-13633ce617ab",
   "metadata": {},
   "outputs": [],
   "source": [
    "import pandas as pd\n",
    "import numpy as np\n",
    "import tensorflow as tf\n",
    "import matplotlib.pyplot as plt\n",
    "import os\n",
    "from sklearn.model_selection import train_test_split\n",
    "from sklearn.metrics import accuracy_score, recall_score, roc_auc_score"
   ]
  },
  {
   "cell_type": "markdown",
   "id": "c671e6c0-c59e-4ebe-ace9-40e55e722b1c",
   "metadata": {},
   "source": [
    "### 1 Data EDA\n",
    "#### 1.1 EDA"
   ]
  },
  {
   "cell_type": "code",
   "execution_count": 3,
   "id": "80777935-d4da-447c-ae33-fbc1a509321e",
   "metadata": {},
   "outputs": [],
   "source": [
    "url = '.\\\\nlp-getting-started'\n",
    "path_train = os.path.join(url, 'train.csv')\n",
    "path_test = os.path.join(url, 'test.csv')"
   ]
  },
  {
   "cell_type": "code",
   "execution_count": 10,
   "id": "2075a3a8-eaa3-4d86-9502-eb8d02d27448",
   "metadata": {},
   "outputs": [],
   "source": [
    "df_train = pd.read_csv(path_train, header = 0)\n",
    "df_test = pd.read_csv(path_test, header = 0)"
   ]
  },
  {
   "cell_type": "code",
   "execution_count": 5,
   "id": "c3986ee1-12b2-4e44-acbb-bfdbafafbc5e",
   "metadata": {},
   "outputs": [
    {
     "data": {
      "text/html": [
       "<div>\n",
       "<style scoped>\n",
       "    .dataframe tbody tr th:only-of-type {\n",
       "        vertical-align: middle;\n",
       "    }\n",
       "\n",
       "    .dataframe tbody tr th {\n",
       "        vertical-align: top;\n",
       "    }\n",
       "\n",
       "    .dataframe thead th {\n",
       "        text-align: right;\n",
       "    }\n",
       "</style>\n",
       "<table border=\"1\" class=\"dataframe\">\n",
       "  <thead>\n",
       "    <tr style=\"text-align: right;\">\n",
       "      <th></th>\n",
       "      <th>id</th>\n",
       "      <th>keyword</th>\n",
       "      <th>location</th>\n",
       "      <th>text</th>\n",
       "      <th>target</th>\n",
       "    </tr>\n",
       "  </thead>\n",
       "  <tbody>\n",
       "    <tr>\n",
       "      <th>0</th>\n",
       "      <td>1</td>\n",
       "      <td>NaN</td>\n",
       "      <td>NaN</td>\n",
       "      <td>Our Deeds are the Reason of this #earthquake M...</td>\n",
       "      <td>1</td>\n",
       "    </tr>\n",
       "    <tr>\n",
       "      <th>1</th>\n",
       "      <td>4</td>\n",
       "      <td>NaN</td>\n",
       "      <td>NaN</td>\n",
       "      <td>Forest fire near La Ronge Sask. Canada</td>\n",
       "      <td>1</td>\n",
       "    </tr>\n",
       "    <tr>\n",
       "      <th>2</th>\n",
       "      <td>5</td>\n",
       "      <td>NaN</td>\n",
       "      <td>NaN</td>\n",
       "      <td>All residents asked to 'shelter in place' are ...</td>\n",
       "      <td>1</td>\n",
       "    </tr>\n",
       "    <tr>\n",
       "      <th>3</th>\n",
       "      <td>6</td>\n",
       "      <td>NaN</td>\n",
       "      <td>NaN</td>\n",
       "      <td>13,000 people receive #wildfires evacuation or...</td>\n",
       "      <td>1</td>\n",
       "    </tr>\n",
       "    <tr>\n",
       "      <th>4</th>\n",
       "      <td>7</td>\n",
       "      <td>NaN</td>\n",
       "      <td>NaN</td>\n",
       "      <td>Just got sent this photo from Ruby #Alaska as ...</td>\n",
       "      <td>1</td>\n",
       "    </tr>\n",
       "    <tr>\n",
       "      <th>...</th>\n",
       "      <td>...</td>\n",
       "      <td>...</td>\n",
       "      <td>...</td>\n",
       "      <td>...</td>\n",
       "      <td>...</td>\n",
       "    </tr>\n",
       "    <tr>\n",
       "      <th>7608</th>\n",
       "      <td>10869</td>\n",
       "      <td>NaN</td>\n",
       "      <td>NaN</td>\n",
       "      <td>Two giant cranes holding a bridge collapse int...</td>\n",
       "      <td>1</td>\n",
       "    </tr>\n",
       "    <tr>\n",
       "      <th>7609</th>\n",
       "      <td>10870</td>\n",
       "      <td>NaN</td>\n",
       "      <td>NaN</td>\n",
       "      <td>@aria_ahrary @TheTawniest The out of control w...</td>\n",
       "      <td>1</td>\n",
       "    </tr>\n",
       "    <tr>\n",
       "      <th>7610</th>\n",
       "      <td>10871</td>\n",
       "      <td>NaN</td>\n",
       "      <td>NaN</td>\n",
       "      <td>M1.94 [01:04 UTC]?5km S of Volcano Hawaii. htt...</td>\n",
       "      <td>1</td>\n",
       "    </tr>\n",
       "    <tr>\n",
       "      <th>7611</th>\n",
       "      <td>10872</td>\n",
       "      <td>NaN</td>\n",
       "      <td>NaN</td>\n",
       "      <td>Police investigating after an e-bike collided ...</td>\n",
       "      <td>1</td>\n",
       "    </tr>\n",
       "    <tr>\n",
       "      <th>7612</th>\n",
       "      <td>10873</td>\n",
       "      <td>NaN</td>\n",
       "      <td>NaN</td>\n",
       "      <td>The Latest: More Homes Razed by Northern Calif...</td>\n",
       "      <td>1</td>\n",
       "    </tr>\n",
       "  </tbody>\n",
       "</table>\n",
       "<p>7613 rows × 5 columns</p>\n",
       "</div>"
      ],
      "text/plain": [
       "         id keyword location  \\\n",
       "0         1     NaN      NaN   \n",
       "1         4     NaN      NaN   \n",
       "2         5     NaN      NaN   \n",
       "3         6     NaN      NaN   \n",
       "4         7     NaN      NaN   \n",
       "...     ...     ...      ...   \n",
       "7608  10869     NaN      NaN   \n",
       "7609  10870     NaN      NaN   \n",
       "7610  10871     NaN      NaN   \n",
       "7611  10872     NaN      NaN   \n",
       "7612  10873     NaN      NaN   \n",
       "\n",
       "                                                   text  target  \n",
       "0     Our Deeds are the Reason of this #earthquake M...       1  \n",
       "1                Forest fire near La Ronge Sask. Canada       1  \n",
       "2     All residents asked to 'shelter in place' are ...       1  \n",
       "3     13,000 people receive #wildfires evacuation or...       1  \n",
       "4     Just got sent this photo from Ruby #Alaska as ...       1  \n",
       "...                                                 ...     ...  \n",
       "7608  Two giant cranes holding a bridge collapse int...       1  \n",
       "7609  @aria_ahrary @TheTawniest The out of control w...       1  \n",
       "7610  M1.94 [01:04 UTC]?5km S of Volcano Hawaii. htt...       1  \n",
       "7611  Police investigating after an e-bike collided ...       1  \n",
       "7612  The Latest: More Homes Razed by Northern Calif...       1  \n",
       "\n",
       "[7613 rows x 5 columns]"
      ]
     },
     "execution_count": 5,
     "metadata": {},
     "output_type": "execute_result"
    }
   ],
   "source": [
    "df_train"
   ]
  },
  {
   "cell_type": "code",
   "execution_count": 6,
   "id": "0c89ee22-368c-4e71-a8d3-a26343e07b7d",
   "metadata": {},
   "outputs": [],
   "source": [
    "class_count = df_train['target'].value_counts()"
   ]
  },
  {
   "cell_type": "code",
   "execution_count": 9,
   "id": "b20bf23a-2c16-4610-b6d4-9105aac7d959",
   "metadata": {},
   "outputs": [
    {
     "data": {
      "text/plain": [
       "Text(0, 0.5, 'Class Counts')"
      ]
     },
     "execution_count": 9,
     "metadata": {},
     "output_type": "execute_result"
    },
    {
     "data": {
      "image/png": "[encoded data removed]",
      "text/plain": [
       "<Figure size 600x400 with 1 Axes>"
      ]
     },
     "metadata": {},
     "output_type": "display_data"
    }
   ],
   "source": [
    "fig1 = plt.figure(figsize = (6,4))\n",
    "plt.bar([f'class {class_count.index[0]}', f'class {class_count.index[1]}'], class_count)\n",
    "plt.xlabel('Natural Disaster Class in Tweet')\n",
    "plt.ylabel('Class Counts')"
   ]
  },
  {
   "cell_type": "markdown",
   "id": "8c2a370c-2b93-4a8b-aec1-e74b37603dcc",
   "metadata": {},
   "source": [
    "#### 1.2 Count the unique words for an estimate of tokenizer vocabulary"
   ]
  },
  {
   "cell_type": "code",
   "execution_count": 44,
   "id": "630ae05c-9762-4172-9189-71619ab19157",
   "metadata": {},
   "outputs": [],
   "source": [
    "sr_wordbag = df_train['text'].apply(lambda x:x.split())"
   ]
  },
  {
   "cell_type": "code",
   "execution_count": 46,
   "id": "df9da62c-ca38-416a-9d90-dd2e1b72297d",
   "metadata": {},
   "outputs": [],
   "source": [
    "bag_of_words = []\n",
    "null_ = sr_wordbag.apply(lambda x:bag_of_words.extend(x))"
   ]
  },
  {
   "cell_type": "code",
   "execution_count": 49,
   "id": "a12296be-1651-4685-a27d-f51b93a0bc2c",
   "metadata": {},
   "outputs": [],
   "source": [
    "set_of_words = set(bag_of_words)"
   ]
  },
  {
   "cell_type": "code",
   "execution_count": 50,
   "id": "3ed91ccb-94bf-4579-b21c-5216a1860aef",
   "metadata": {},
   "outputs": [
    {
     "data": {
      "text/plain": [
       "113461"
      ]
     },
     "execution_count": 50,
     "metadata": {},
     "output_type": "execute_result"
    }
   ],
   "source": [
    "len(bag_of_words)"
   ]
  },
  {
   "cell_type": "code",
   "execution_count": 54,
   "id": "dd21d53b-fff0-4fc0-bd1d-c79a2d91adac",
   "metadata": {},
   "outputs": [
    {
     "name": "stdout",
     "output_type": "stream",
     "text": [
      "The number of total unique words = 31924\n"
     ]
    }
   ],
   "source": [
    "number_of_unique_words = len(set_of_words)\n",
    "print(f'The number of total unique words = {number_of_unique_words}')"
   ]
  },
  {
   "cell_type": "code",
   "execution_count": 60,
   "id": "f310f336-12b0-4da4-ba71-0723f845274d",
   "metadata": {},
   "outputs": [
    {
     "name": "stdout",
     "output_type": "stream",
     "text": [
      "The maximum length of tweets = 157\n"
     ]
    }
   ],
   "source": [
    "### find out what is maximum length of each tweet\n",
    "\n",
    "text_length = np.vectorize(len)(df_train['text'].to_numpy())\n",
    "max_text_length = np.max(text_length)\n",
    "print(f'The maximum length of tweets = {max_text_length}')"
   ]
  },
  {
   "cell_type": "markdown",
   "id": "57de3c21-1688-4967-92f9-fdd300108a95",
   "metadata": {},
   "source": [
    "### 2 Preprocessing"
   ]
  },
  {
   "cell_type": "markdown",
   "id": "c448ef6f-56fa-49b5-9667-a764663cdff6",
   "metadata": {},
   "source": [
    "#### 2.1 Input Pipeline \n",
    "\n",
    "##### 2.1.1 Tensorflow tf.data.Dataset"
   ]
  },
  {
   "cell_type": "code",
   "execution_count": 38,
   "id": "6cb6b4b8-d1f7-40bf-8abd-fc0491399b93",
   "metadata": {},
   "outputs": [],
   "source": [
    "def input_pipeline(tr_df, ts_df, buffersize = 64, batchsize = 32):\n",
    "    tr_text = tr_df['text'].to_numpy()\n",
    "    tr_label = tr_df['target'].to_numpy()\n",
    "    ts_text = ts_df['text'].to_numpy()\n",
    "\n",
    "    X_train, X_valid, y_train, y_valid = train_test_split(tr_text, tr_label, test_size = 0.2, random_state = 40, stratify = tr_label)\n",
    "    train_dataset = tf.data.Dataset.from_tensor_slices((X_train, y_train))\n",
    "    valid_dataset = tf.data.Dataset.from_tensor_slices((X_valid, y_valid))    \n",
    "    test_dataset = tf.data.Dataset.from_tensor_slices(ts_text)\n",
    "\n",
    "    # set up batch and buffer for dataset\n",
    "\n",
    "    train_dataset = train_dataset.shuffle(buffer_size = buffersize).batch(batchsize).prefetch(tf.data.AUTOTUNE)\n",
    "    valid_dataset = valid_dataset.shuffle(buffer_size = buffersize).batch(batchsize).prefetch(tf.data.AUTOTUNE)\n",
    "    token_dataset = train_dataset.map(lambda text, label:text)\n",
    "    test_dataset = test_dataset.batch(batchsize).prefetch(tf.data.AUTOTUNE)\n",
    "\n",
    "    return train_dataset, valid_dataset, token_dataset, test_dataset"
   ]
  },
  {
   "cell_type": "code",
   "execution_count": 39,
   "id": "b64cfa0b-602d-43af-84ca-c2c1b6bc8653",
   "metadata": {},
   "outputs": [],
   "source": [
    "dataset_train, dataset_valid, dataset_token, dataset_test = input_pipeline(df_train, df_test)"
   ]
  },
  {
   "cell_type": "markdown",
   "id": "b11219f1-ff83-4df6-b15b-0c56b34db9be",
   "metadata": {},
   "source": [
    "##### 2.1.2 Check the datasets"
   ]
  },
  {
   "cell_type": "code",
   "execution_count": 26,
   "id": "81965f01-4e6c-4aba-a8f1-5542edabae0c",
   "metadata": {},
   "outputs": [],
   "source": [
    "sample_tuple = list(dataset_train.take(1).as_numpy_iterator())[0]"
   ]
  },
  {
   "cell_type": "code",
   "execution_count": 29,
   "id": "0b764c90-4bd4-4339-995e-6f4323d2069a",
   "metadata": {},
   "outputs": [],
   "source": [
    "sample_text = sample_tuple[0]\n",
    "sample_text.shape\n",
    "sample_target = sample_tuple[1]"
   ]
  },
  {
   "cell_type": "code",
   "execution_count": 28,
   "id": "f4bb53d2-847c-4499-b861-f4786da96752",
   "metadata": {},
   "outputs": [
    {
     "data": {
      "text/plain": [
       "b'Obama Declares Disaster for Typhoon-Devastated Saipan http://t.co/CanEyTtwEV #international'"
      ]
     },
     "execution_count": 28,
     "metadata": {},
     "output_type": "execute_result"
    }
   ],
   "source": [
    "sample_text[10]"
   ]
  },
  {
   "cell_type": "code",
   "execution_count": 31,
   "id": "d8de2555-2afb-4b82-b82b-7bec4c9cef2b",
   "metadata": {},
   "outputs": [
    {
     "data": {
      "text/plain": [
       "1"
      ]
     },
     "execution_count": 31,
     "metadata": {},
     "output_type": "execute_result"
    }
   ],
   "source": [
    "sample_target[10]"
   ]
  },
  {
   "cell_type": "code",
   "execution_count": 42,
   "id": "8ac4c316-b882-45b0-b7e2-9ca960de1684",
   "metadata": {},
   "outputs": [
    {
     "name": "stdout",
     "output_type": "stream",
     "text": [
      "b\"investigate why Robert mueller didn't respond to my complaints since Nov 2011 &amp; just left me/son out her in danger http://t.co/pe2D3HCsNI\"\n"
     ]
    }
   ],
   "source": [
    "sample_for_token = list(dataset_token.take(1).as_numpy_iterator())[0]\n",
    "print(sample_for_token[10])"
   ]
  },
  {
   "cell_type": "code",
   "execution_count": 43,
   "id": "a6d64723-cfa1-4c88-9902-bd2c463b4873",
   "metadata": {},
   "outputs": [
    {
     "name": "stdout",
     "output_type": "stream",
     "text": [
      "b\"No I don't like cold!\"\n"
     ]
    }
   ],
   "source": [
    "sample_test = list(dataset_test.take(1).as_numpy_iterator())[0]\n",
    "print(sample_test[10])"
   ]
  },
  {
   "cell_type": "code",
   "execution_count": null,
   "id": "ac1e6315-b0f4-433e-b109-608760a689ef",
   "metadata": {},
   "outputs": [],
   "source": []
  },
  {
   "cell_type": "markdown",
   "id": "94ff885d-159e-4e4f-97fc-1832f2a60f32",
   "metadata": {},
   "source": [
    "### 3. Build a Text Tokenizer"
   ]
  },
  {
   "cell_type": "markdown",
   "id": "9d6a5833-09ed-4bc1-a085-3f157439c805",
   "metadata": {},
   "source": [
    "##### 3.1 Build and Train Tokenizer"
   ]
  },
  {
   "cell_type": "code",
   "execution_count": 86,
   "id": "10f59e04-1c21-4de0-b69e-ca5d31e289a2",
   "metadata": {},
   "outputs": [],
   "source": [
    "seq_length = int(1.2*max_text_length)\n",
    "tokenizer = tf.keras.layers.TextVectorization(max_tokens = int(1.2*number_of_unique_words), output_mode = 'int', \n",
    "                                              output_sequence_length = seq_length)\n",
    "tokenizer.adapt(dataset_token)"
   ]
  },
  {
   "cell_type": "code",
   "execution_count": 88,
   "id": "dcef6737-6d52-4695-a9fa-57c4750cde0e",
   "metadata": {
    "scrolled": true
   },
   "outputs": [
    {
     "data": {
      "text/plain": [
       "38308"
      ]
     },
     "execution_count": 88,
     "metadata": {},
     "output_type": "execute_result"
    }
   ],
   "source": [
    "int(1.2*number_of_unique_words)"
   ]
  },
  {
   "cell_type": "code",
   "execution_count": 89,
   "id": "c57bdc5a-ea64-4092-bcd0-50b73dd725bf",
   "metadata": {},
   "outputs": [
    {
     "data": {
      "text/plain": [
       "19351"
      ]
     },
     "execution_count": 89,
     "metadata": {},
     "output_type": "execute_result"
    }
   ],
   "source": [
    "tokenizer.vocabulary_size()"
   ]
  },
  {
   "cell_type": "code",
   "execution_count": 69,
   "id": "82665548-481a-41a0-88a1-c2e7b9a32de3",
   "metadata": {},
   "outputs": [
    {
     "data": {
      "text/plain": [
       "'nuclear'"
      ]
     },
     "execution_count": 69,
     "metadata": {},
     "output_type": "execute_result"
    }
   ],
   "source": [
    "tokenizer.get_vocabulary()[120]"
   ]
  },
  {
   "cell_type": "code",
   "execution_count": 80,
   "id": "6f793197-eaa8-446a-8ed7-46e2159bf987",
   "metadata": {},
   "outputs": [
    {
     "data": {
      "text/plain": [
       "19351"
      ]
     },
     "execution_count": 80,
     "metadata": {},
     "output_type": "execute_result"
    }
   ],
   "source": [
    "len(tokenizer.get_vocabulary())"
   ]
  },
  {
   "cell_type": "markdown",
   "id": "4dbcc896-88a5-4f21-82c5-ae3ddeb700e1",
   "metadata": {},
   "source": [
    "##### 3.2 Test a text on tokenizer"
   ]
  },
  {
   "cell_type": "code",
   "execution_count": 90,
   "id": "bc55e701-c2ad-4035-a00a-5d4c7a487bee",
   "metadata": {},
   "outputs": [],
   "source": [
    "i = 10\n",
    "text_input = list(dataset_train.take(1).as_numpy_iterator())[0][0][i:i+2]  # This will have a list of ONE tuple with two elements. Each element is a (batch,) array)"
   ]
  },
  {
   "cell_type": "code",
   "execution_count": 91,
   "id": "5e1d5856-bce4-49e1-b9c6-7422e6818a74",
   "metadata": {},
   "outputs": [
    {
     "data": {
      "text/plain": [
       "array([b\"@Reds I don't throw the word hero around lightly... Usually reserved for first responders and military... But he's a hero...\",\n",
       "       b'FedEx no longer to transport bioterror germs in wake of anthrax lab mishaps http://t.co/c0p3SEsqWm via @usatoday'],\n",
       "      dtype=object)"
      ]
     },
     "execution_count": 91,
     "metadata": {},
     "output_type": "execute_result"
    }
   ],
   "source": [
    "text_input"
   ]
  },
  {
   "cell_type": "code",
   "execution_count": 92,
   "id": "3b570fe1-e8bc-419e-887d-e148a43d6802",
   "metadata": {},
   "outputs": [
    {
     "data": {
      "text/plain": [
       "<tf.Tensor: shape=(2, 188), dtype=int64, numpy=\n",
       "array([[ 8541,     7,    61,  4073,     2,  1579,  1191,   318, 10504,\n",
       "         1446,  8448,    10,    96,   624,     8,   223,    30,   262,\n",
       "            3,  1191,     0,     0,     0,     0,     0,     0,     0,\n",
       "            0,     0,     0,     0,     0,     0,     0,     0,     0,\n",
       "            0,     0,     0,     0,     0,     0,     0,     0,     0,\n",
       "            0,     0,     0,     0,     0,     0,     0,     0,     0,\n",
       "            0,     0,     0,     0,     0,     0,     0,     0,     0,\n",
       "            0,     0,     0,     0,     0,     0,     0,     0,     0,\n",
       "            0,     0,     0,     0,     0,     0,     0,     0,     0,\n",
       "            0,     0,     0,     0,     0,     0,     0,     0,     0,\n",
       "            0,     0,     0,     0,     0,     0,     0,     0,     0,\n",
       "            0,     0,     0,     0,     0,     0,     0,     0,     0,\n",
       "            0,     0,     0,     0,     0,     0,     0,     0,     0,\n",
       "            0,     0,     0,     0,     0,     0,     0,     0,     0,\n",
       "            0,     0,     0,     0,     0,     0,     0,     0,     0,\n",
       "            0,     0,     0,     0,     0,     0,     0,     0,     0,\n",
       "            0,     0,     0,     0,     0,     0,     0,     0,     0,\n",
       "            0,     0,     0,     0,     0,     0,     0,     0,     0,\n",
       "            0,     0,     0,     0,     0,     0,     0,     0,     0,\n",
       "            0,     0,     0,     0,     0,     0,     0,     0,     0,\n",
       "            0,     0,     0,     0,     0,     0,     0,     0],\n",
       "       [  509,    43,   472,     5,   646,   549,   863,     4,   526,\n",
       "            6,   788,   599,   853, 13973,    50,  1232,     0,     0,\n",
       "            0,     0,     0,     0,     0,     0,     0,     0,     0,\n",
       "            0,     0,     0,     0,     0,     0,     0,     0,     0,\n",
       "            0,     0,     0,     0,     0,     0,     0,     0,     0,\n",
       "            0,     0,     0,     0,     0,     0,     0,     0,     0,\n",
       "            0,     0,     0,     0,     0,     0,     0,     0,     0,\n",
       "            0,     0,     0,     0,     0,     0,     0,     0,     0,\n",
       "            0,     0,     0,     0,     0,     0,     0,     0,     0,\n",
       "            0,     0,     0,     0,     0,     0,     0,     0,     0,\n",
       "            0,     0,     0,     0,     0,     0,     0,     0,     0,\n",
       "            0,     0,     0,     0,     0,     0,     0,     0,     0,\n",
       "            0,     0,     0,     0,     0,     0,     0,     0,     0,\n",
       "            0,     0,     0,     0,     0,     0,     0,     0,     0,\n",
       "            0,     0,     0,     0,     0,     0,     0,     0,     0,\n",
       "            0,     0,     0,     0,     0,     0,     0,     0,     0,\n",
       "            0,     0,     0,     0,     0,     0,     0,     0,     0,\n",
       "            0,     0,     0,     0,     0,     0,     0,     0,     0,\n",
       "            0,     0,     0,     0,     0,     0,     0,     0,     0,\n",
       "            0,     0,     0,     0,     0,     0,     0,     0,     0,\n",
       "            0,     0,     0,     0,     0,     0,     0,     0]],\n",
       "      dtype=int64)>"
      ]
     },
     "execution_count": 92,
     "metadata": {},
     "output_type": "execute_result"
    }
   ],
   "source": [
    "tokenizer(text_input)"
   ]
  },
  {
   "cell_type": "markdown",
   "id": "9ecb3b79-c1ab-45df-9242-f089344682a9",
   "metadata": {},
   "source": [
    "### 4. LSTM Model Architecture and Training\n",
    "\n",
    "#### 4.1 Model Construction"
   ]
  },
  {
   "cell_type": "markdown",
   "id": "d387e09a-9e9e-45cd-a028-b804aa561cff",
   "metadata": {},
   "source": [
    "##### 4.1.1 Understanding LSTM output shape"
   ]
  },
  {
   "cell_type": "code",
   "execution_count": 81,
   "id": "ea5d5ea3-96cf-4a72-81ec-520d6acf386b",
   "metadata": {},
   "outputs": [
    {
     "name": "stdout",
     "output_type": "stream",
     "text": [
      "(32, 8)\n",
      "(32, 20, 8)\n"
     ]
    }
   ],
   "source": [
    "## Let's test the shape of inputs and outputs for different LSTM setups\n",
    "lstm_test = tf.keras.layers.LSTM(8)\n",
    "lstm_test2 = tf.keras.layers.LSTM(8, return_sequences = True)\n",
    "inputs = np.random.normal(size = (32, 20, 50)) # (batch, time step, feature)\n",
    "output1 = lstm_test(inputs)\n",
    "output2 = lstm_test2(inputs)\n",
    "print(output1.shape)\n",
    "print(output2.shape)"
   ]
  },
  {
   "cell_type": "markdown",
   "id": "bb1230c0-ec08-425c-89be-9de8426c3169",
   "metadata": {},
   "source": [
    "#### Findings\n",
    "LSTM assigns a LSTM gate to each time step, if return_sequences = True, the model outputs the intermediate result for each gate assigned to each time step. <br> if return_sequences = False, it will only ouptput the last step where each intermediate step goes through next following gate, and eventually all time steps are condensed"
   ]
  },
  {
   "cell_type": "markdown",
   "id": "17c56afd-cc03-4966-972b-5da87db293a7",
   "metadata": {},
   "source": [
    "##### 4.1.2 Build the LSTM Model "
   ]
  },
  {
   "cell_type": "code",
   "execution_count": 138,
   "id": "469f883f-28df-425d-8c6f-31efb112e133",
   "metadata": {},
   "outputs": [],
   "source": [
    "class LSTM_NLP(tf.keras.Model):\n",
    "    def __init__(self, embedding_dim, lstm_unit, seq_length):\n",
    "        super(LSTM_NLP, self).__init__()\n",
    "        self.vectorizer = tokenizer\n",
    "        self.embedding = tf.keras.layers.Embedding(input_dim = tokenizer.vocabulary_size(),\n",
    "                                                   output_dim = embedding_dim,\n",
    "                                                   mask_zero = True,\n",
    "                                                   input_length = seq_length)\n",
    "                                               \n",
    "        self.lstm = tf.keras.layers.LSTM(units = lstm_unit, return_sequences = False, kernel_regularizer=tf.keras.regularizers.l1_l2())  # only return last output, no intermediate sequence from each gate\n",
    "        self.norm = tf.keras.layers.BatchNormalization()\n",
    "        self.dense1 = tf.keras.layers.Dense(64, activation = 'relu', kernel_regularizer=tf.keras.regularizers.l1_l2())\n",
    "        self.dropout = tf.keras.layers.Dropout(rate = 0.6)\n",
    "        self.dense2 = tf.keras.layers.Dense(1)  # the output is logits, no activation. sigmoid will be activated in binarycrossentropy()\n",
    "\n",
    "    def call(self, inputs, training = False):\n",
    "        x = self.vectorizer(inputs)\n",
    "        x = self.embedding(x)\n",
    "        x = self.lstm(x)\n",
    "        x = self.dropout(x, training = training)\n",
    "        x = self.norm(x, training = training)\n",
    "        x = self.dense1(x)        \n",
    "        res_logit = self.dense2(x)\n",
    "\n",
    "        return res_logit"
   ]
  },
  {
   "cell_type": "markdown",
   "id": "821978f7-b178-4daf-bf49-015a1dd26745",
   "metadata": {},
   "source": [
    "##### 4.1.3 Compile the Model"
   ]
  },
  {
   "cell_type": "code",
   "execution_count": 141,
   "id": "18d05a75-967a-471d-8963-f9a85513a589",
   "metadata": {},
   "outputs": [],
   "source": [
    "embedding_dim = 256\n",
    "lstm_unit = 8\n",
    "seq_length =  int(1.2*max_text_length)\n",
    "model_nlp_lstm = LSTM_NLP(embedding_dim = embedding_dim, lstm_unit = lstm_unit, seq_length = seq_length)\n",
    "#===============================\n",
    "model_nlp_lstm.compile(optimizer = tf.keras.optimizers.Adam(learning_rate = 0.00025), \n",
    "                       loss = tf.keras.losses.BinaryCrossentropy(from_logits = True),\n",
    "                       metrics = ['accuracy', tf.keras.metrics.AUC(curve= 'ROC')])"
   ]
  },
  {
   "cell_type": "markdown",
   "id": "86991d49-9fe3-452a-b904-f2df62b1a10e",
   "metadata": {},
   "source": [
    "##### 4.1.4 Training the Model"
   ]
  },
  {
   "cell_type": "code",
   "execution_count": 142,
   "id": "1ba61656-26e0-4057-a229-5b55d6810fb0",
   "metadata": {},
   "outputs": [
    {
     "name": "stdout",
     "output_type": "stream",
     "text": [
      "Epoch 1/10\n",
      "191/191 [==============================] - 16s 38ms/step - loss: 6.0521 - accuracy: 0.6056 - auc_16: 0.6484 - val_loss: 4.2757 - val_accuracy: 0.5706 - val_auc_16: 0.5138 - lr: 2.5000e-04\n",
      "Epoch 2/10\n",
      "191/191 [==============================] - 5s 28ms/step - loss: 2.9274 - accuracy: 0.7038 - auc_16: 0.7794 - val_loss: 1.9595 - val_accuracy: 0.6093 - val_auc_16: 0.7299 - lr: 2.5000e-04\n",
      "Epoch 3/10\n",
      "191/191 [==============================] - 5s 26ms/step - loss: 1.2441 - accuracy: 0.7897 - auc_16: 0.8429 - val_loss: 0.9353 - val_accuracy: 0.7689 - val_auc_16: 0.8015 - lr: 2.5000e-04\n",
      "Epoch 4/10\n",
      "191/191 [==============================] - 5s 25ms/step - loss: 0.7019 - accuracy: 0.8479 - auc_16: 0.8815 - val_loss: 0.7710 - val_accuracy: 0.7945 - val_auc_16: 0.8060 - lr: 2.5000e-04\n",
      "Epoch 5/10\n",
      "191/191 [==============================] - 5s 25ms/step - loss: 0.5438 - accuracy: 0.8901 - auc_16: 0.9131 - val_loss: 0.6910 - val_accuracy: 0.7971 - val_auc_16: 0.7978 - lr: 2.5000e-04\n",
      "Epoch 6/10\n",
      "191/191 [==============================] - 5s 26ms/step - loss: 0.4491 - accuracy: 0.9062 - auc_16: 0.9317 - val_loss: 0.6845 - val_accuracy: 0.7800 - val_auc_16: 0.7972 - lr: 2.5000e-04\n",
      "Epoch 7/10\n",
      "191/191 [==============================] - 5s 25ms/step - loss: 0.3973 - accuracy: 0.9156 - auc_16: 0.9411 - val_loss: 0.6580 - val_accuracy: 0.7794 - val_auc_16: 0.7815 - lr: 2.5000e-04\n",
      "Epoch 8/10\n",
      "191/191 [==============================] - 5s 26ms/step - loss: 0.3541 - accuracy: 0.9278 - auc_16: 0.9522 - val_loss: 0.6725 - val_accuracy: 0.7794 - val_auc_16: 0.7903 - lr: 2.5000e-04\n",
      "Epoch 9/10\n",
      "191/191 [==============================] - 5s 25ms/step - loss: 0.3297 - accuracy: 0.9368 - auc_16: 0.9531 - val_loss: 0.6647 - val_accuracy: 0.7794 - val_auc_16: 0.7879 - lr: 2.5000e-04\n",
      "Epoch 10/10\n",
      "191/191 [==============================] - 5s 25ms/step - loss: 0.3114 - accuracy: 0.9419 - auc_16: 0.9575 - val_loss: 0.6480 - val_accuracy: 0.7800 - val_auc_16: 0.7907 - lr: 2.5000e-05\n"
     ]
    }
   ],
   "source": [
    "lr_plateau = tf.keras.callbacks.ReduceLROnPlateau(patience = 2)\n",
    "hist = model_nlp_lstm.fit(dataset_train, validation_data = dataset_valid, epochs = 10, callbacks = [lr_plateau])"
   ]
  },
  {
   "cell_type": "code",
   "execution_count": 143,
   "id": "992426f1-213f-4aaf-8012-eb57274ffcf5",
   "metadata": {},
   "outputs": [],
   "source": [
    "df_hist = pd.DataFrame(hist.history)"
   ]
  },
  {
   "cell_type": "code",
   "execution_count": 145,
   "id": "b5144e70-807b-4878-bb8c-f165ca80b433",
   "metadata": {},
   "outputs": [],
   "source": [
    "df_hist.columns = ['loss', 'accuracy', 'auc', 'val_loss', 'val_accuracy', 'val_auc',\n",
    "       'lr']"
   ]
  },
  {
   "cell_type": "code",
   "execution_count": 146,
   "id": "1f20d68e-aad5-4e76-a550-94fb9e521506",
   "metadata": {},
   "outputs": [
    {
     "data": {
      "text/plain": [
       "Text(0, 0.5, 'Metric Scores')"
      ]
     },
     "execution_count": 146,
     "metadata": {},
     "output_type": "execute_result"
    },
    {
     "data": {
      "image/png": "[encoded data removed]",
      "text/plain": [
       "<Figure size 800x600 with 1 Axes>"
      ]
     },
     "metadata": {},
     "output_type": "display_data"
    }
   ],
   "source": [
    "fig = plt.figure(figsize = (8,6))\n",
    "plt.plot(df_hist['accuracy'], linestyle ='-.', color = 'blue', label = 'Accuracy: training')\n",
    "plt.plot(df_hist['auc'], linestyle ='-.', color = 'orange', label = 'AUC score: training')\n",
    "plt.plot(df_hist['val_accuracy'], linestyle ='-', color = 'blue', label = 'Accuracy: validation')\n",
    "plt.plot(df_hist['val_auc'], linestyle ='-', color = 'orange', label = 'AUC score: validation')\n",
    "plt.legend()\n",
    "plt.xlabel('Epochs')\n",
    "plt.ylabel('Metric Scores')"
   ]
  },
  {
   "cell_type": "markdown",
   "id": "52d1c202-6747-4b9a-8fa9-e7aa35383cf5",
   "metadata": {},
   "source": [
    "#### Findings \n",
    "* The simple LSTM model for this NLP classification problem can achieve AUC of 0.79 for validation data\n",
    "* It has overfitting despite of using regularization and drop out.\n",
    "* Below are the summary of hyperparameter study. The model hyperparameters have small impacts on the AUC score of the model.\n",
    "\n",
    "| Hyperparameters   | Value    | AUC Score on Validation Data  |\n",
    "| ----------- | ----------- | ----------- |\n",
    "|  Embedding Dimension |   128   |   0.77  |\n",
    "|  Embedding Dimension |   256   |   0.78  |\n",
    "|  LSTM Unit |   8   |   0.78  |\n",
    "|  LSTM Unit |   32   |   0.76  |\n",
    "| Dropout rate | 0.2 |  0.77 |\n",
    "| Dropout rate | 0.5 |  0.78  |"
   ]
  },
  {
   "cell_type": "markdown",
   "id": "c59eae5b-f1b3-4504-9939-5e13f3496806",
   "metadata": {},
   "source": [
    "### 5. LSTM Model on Test Data"
   ]
  },
  {
   "cell_type": "code",
   "execution_count": 147,
   "id": "99203b52-fdf0-4679-8d42-fa9acc747b28",
   "metadata": {},
   "outputs": [],
   "source": [
    "def lstm_predict(model, dataset_test, df_test):\n",
    "    pred_logits = model.predict(dataset_test)\n",
    "    prob = tf.math.sigmoid(pred_logits)\n",
    "    pred = tf.cast(prob >= 0.5, tf.int32)\n",
    "    pred = pred.numpy()\n",
    "    df_test['target'] = pred\n",
    "    return df_test[['id','target']]"
   ]
  },
  {
   "cell_type": "code",
   "execution_count": 149,
   "id": "989011b9-d6ac-4f07-93d8-6e2cd4013faa",
   "metadata": {},
   "outputs": [
    {
     "name": "stdout",
     "output_type": "stream",
     "text": [
      "102/102 [==============================] - 3s 15ms/step\n"
     ]
    }
   ],
   "source": [
    "df_pred = lstm_predict(model_nlp_lstm, dataset_test, df_test)"
   ]
  },
  {
   "cell_type": "code",
   "execution_count": 152,
   "id": "41ad75f0-aa79-478b-87b6-662b565fa851",
   "metadata": {},
   "outputs": [],
   "source": [
    "df_pred.to_csv('prediction_lstm.csv', index = False)"
   ]
  },
  {
   "cell_type": "markdown",
   "id": "22bf56e7-ddeb-4fd6-8f39-af38e87f8f11",
   "metadata": {},
   "source": [
    "### 6. Conclusion on LSTM for NLP Text Classification\n",
    "\n",
    "The above test results submitted to Kaggle received a score of 0.77, which is consistent with our obervations in validation data. Following conclusions can be drawn:\n",
    "\n",
    "* For a simple task such as tweet text classification, LSTM can meet the needs very well.\n",
    "* The hyperpameters have small impacts on the performance of LSTM. Increased text embedding dimension and LSTM unit don't necessarily improve the model performance"
   ]
  },
  {
   "cell_type": "code",
   "execution_count": null,
   "id": "463a3efd-264b-4cd1-8ea0-27f9f5c47a9e",
   "metadata": {},
   "outputs": [],
   "source": []
  }
 ],
 "metadata": {
  "kernelspec": {
   "display_name": "Python 3 (ipykernel)",
   "language": "python",
   "name": "python3"
  },
  "language_info": {
   "codemirror_mode": {
    "name": "ipython",
    "version": 3
   },
   "file_extension": ".py",
   "mimetype": "text/x-python",
   "name": "python",
   "nbconvert_exporter": "python",
   "pygments_lexer": "ipython3",
   "version": "3.10.16"
  }
 },
 "nbformat": 4,
 "nbformat_minor": 5
}
